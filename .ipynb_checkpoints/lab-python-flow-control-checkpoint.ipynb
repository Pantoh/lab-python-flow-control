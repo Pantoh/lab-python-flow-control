{
 "cells": [
  {
   "cell_type": "markdown",
   "id": "d3bfc191-8885-42ee-b0a0-bbab867c6f9f",
   "metadata": {
    "tags": []
   },
   "source": [
    "# Lab | Flow Control"
   ]
  },
  {
   "cell_type": "markdown",
   "id": "3851fcd1-cf98-4653-9c89-e003b7ec9400",
   "metadata": {},
   "source": [
    "## Exercise: Managing Customer Orders Optimized\n",
    "\n",
    "In the last lab, you were starting an online store that sells various products. To ensure smooth operations, you developed a program that manages customer orders and inventory.\n",
    "\n",
    "You did so without using flow control. Let's go a step further and improve this code.\n",
    "\n",
    "Follow the steps below to complete the exercise:\n",
    "\n",
    "1. Look at your code from the lab data structures, and improve repeated code with loops.\n",
    "\n",
    "2. Instead of asking the user to input the name of three products that a customer wants to order, do the following:\n",
    "    \n",
    "    a. Prompt the user to enter the name of a product that a customer wants to order.\n",
    "    \n",
    "    b. Add the product name to the \"customer_orders\" set.\n",
    "    \n",
    "    c. Ask the user if they want to add another product (yes/no).\n",
    "    \n",
    "    d. Continue the loop until the user does not want to add another product.\n",
    "\n",
    "3. Instead of updating the inventory by subtracting 1 from the quantity of each product, only do it for  the products that were ordered (those in \"customer_orders\")."
   ]
  },
  {
   "cell_type": "code",
   "execution_count": 1,
   "id": "462718e5-b36a-4ca2-91ad-60817165d4da",
   "metadata": {},
   "outputs": [
    {
     "name": "stdin",
     "output_type": "stream",
     "text": [
      "Enter quantity of t-shirt:  452\n",
      "Enter quantity of mug:  52\n",
      "Enter quantity of hat:  489\n",
      "Enter quantity of book:  45\n",
      "Enter quantity of keychain:  23\n",
      "Enter product to order:  book\n",
      "Do you want to add another product? (yes/no):  yes\n",
      "Enter product to order:  hat\n",
      "Do you want to add another product? (yes/no):  mug\n"
     ]
    },
    {
     "name": "stdout",
     "output_type": "stream",
     "text": [
      "Customer Orders:\n",
      "hat\n",
      "book\n",
      "\n",
      "Order Statistics:\n",
      "Total Products Ordered: 2\n",
      "Percentage of Products Ordered: 40.00%\n",
      "\n",
      "Updated Inventory:\n",
      "t-shirt: 452\n",
      "mug: 52\n",
      "hat: 488\n",
      "book: 44\n",
      "keychain: 23\n"
     ]
    }
   ],
   "source": [
    "# Define the list of products\n",
    "products = [\"t-shirt\", \"mug\", \"hat\", \"book\", \"keychain\"]\n",
    "\n",
    "# Create an empty dictionary for inventory\n",
    "inventory = {}\n",
    "\n",
    "# Ask user to input quantity of each product\n",
    "for product in products:\n",
    "    quantity = int(input(f\"Enter quantity of {product}: \"))\n",
    "    inventory[product] = quantity\n",
    "\n",
    "# Create an empty set for customer orders\n",
    "customer_orders = set()\n",
    "\n",
    "# Prompt user to enter customer orders\n",
    "while True:\n",
    "    order = input(\"Enter product to order: \")\n",
    "    customer_orders.add(order)\n",
    "    another_product = input(\"Do you want to add another product? (yes/no): \")\n",
    "    if another_product.lower() != 'yes':\n",
    "        break\n",
    "\n",
    "# Print customer orders\n",
    "print(\"Customer Orders:\")\n",
    "for order in customer_orders:\n",
    "    print(order)\n",
    "\n",
    "# Calculate order statistics\n",
    "total_products_ordered = len(customer_orders)\n",
    "percentage_ordered = (total_products_ordered / len(products)) * 100\n",
    "order_status = (total_products_ordered, percentage_ordered)\n",
    "\n",
    "# Print order statistics\n",
    "print(\"\\nOrder Statistics:\")\n",
    "print(f\"Total Products Ordered: {total_products_ordered}\")\n",
    "print(f\"Percentage of Products Ordered: {percentage_ordered:.2f}%\")\n",
    "\n",
    "# Update inventory\n",
    "for order in customer_orders:\n",
    "    if order in inventory:\n",
    "        inventory[order] -= 1\n",
    "\n",
    "# Print updated inventory\n",
    "print(\"\\nUpdated Inventory:\")\n",
    "for product, quantity in inventory.items():\n",
    "    print(f\"{product}: {quantity}\")\n"
   ]
  },
  {
   "cell_type": "code",
   "execution_count": null,
   "id": "90778885-b58b-44cf-8710-f84a4a89dbc7",
   "metadata": {},
   "outputs": [],
   "source": []
  }
 ],
 "metadata": {
  "kernelspec": {
   "display_name": "Python 3 (ipykernel)",
   "language": "python",
   "name": "python3"
  },
  "language_info": {
   "codemirror_mode": {
    "name": "ipython",
    "version": 3
   },
   "file_extension": ".py",
   "mimetype": "text/x-python",
   "name": "python",
   "nbconvert_exporter": "python",
   "pygments_lexer": "ipython3",
   "version": "3.11.7"
  }
 },
 "nbformat": 4,
 "nbformat_minor": 5
}
